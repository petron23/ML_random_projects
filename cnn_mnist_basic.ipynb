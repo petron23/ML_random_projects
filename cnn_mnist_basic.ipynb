{
  "nbformat": 4,
  "nbformat_minor": 0,
  "metadata": {
    "colab": {
      "provenance": [],
      "gpuType": "T4",
      "authorship_tag": "ABX9TyOJJGhHAUENXzjVFdMbdIOq",
      "include_colab_link": true
    },
    "kernelspec": {
      "name": "python3",
      "display_name": "Python 3"
    },
    "language_info": {
      "name": "python"
    },
    "accelerator": "GPU",
    "widgets": {
      "application/vnd.jupyter.widget-state+json": {
        "f7f0209ec6234c6389d8ce24a9a429f5": {
          "model_module": "@jupyter-widgets/controls",
          "model_name": "HBoxModel",
          "model_module_version": "1.5.0",
          "state": {
            "_dom_classes": [],
            "_model_module": "@jupyter-widgets/controls",
            "_model_module_version": "1.5.0",
            "_model_name": "HBoxModel",
            "_view_count": null,
            "_view_module": "@jupyter-widgets/controls",
            "_view_module_version": "1.5.0",
            "_view_name": "HBoxView",
            "box_style": "",
            "children": [
              "IPY_MODEL_26a7754845d74b8e88f8b4bcb9b95a3d",
              "IPY_MODEL_422c630da6fb4c33a5566eabea3361ff",
              "IPY_MODEL_f0f1d90655f24d9e99eebb60a52c19bc"
            ],
            "layout": "IPY_MODEL_aacd70fef6ab471aaf61aba1bed8d7b4"
          }
        },
        "26a7754845d74b8e88f8b4bcb9b95a3d": {
          "model_module": "@jupyter-widgets/controls",
          "model_name": "HTMLModel",
          "model_module_version": "1.5.0",
          "state": {
            "_dom_classes": [],
            "_model_module": "@jupyter-widgets/controls",
            "_model_module_version": "1.5.0",
            "_model_name": "HTMLModel",
            "_view_count": null,
            "_view_module": "@jupyter-widgets/controls",
            "_view_module_version": "1.5.0",
            "_view_name": "HTMLView",
            "description": "",
            "description_tooltip": null,
            "layout": "IPY_MODEL_df2db820a50e42f680101f33a7dd461e",
            "placeholder": "​",
            "style": "IPY_MODEL_f3cee5724dc84f29a9993180ab2f9740",
            "value": "Epochs: 100%"
          }
        },
        "422c630da6fb4c33a5566eabea3361ff": {
          "model_module": "@jupyter-widgets/controls",
          "model_name": "FloatProgressModel",
          "model_module_version": "1.5.0",
          "state": {
            "_dom_classes": [],
            "_model_module": "@jupyter-widgets/controls",
            "_model_module_version": "1.5.0",
            "_model_name": "FloatProgressModel",
            "_view_count": null,
            "_view_module": "@jupyter-widgets/controls",
            "_view_module_version": "1.5.0",
            "_view_name": "ProgressView",
            "bar_style": "success",
            "description": "",
            "description_tooltip": null,
            "layout": "IPY_MODEL_941f4fc21c3c4cfb8e6037fe13ca7bb2",
            "max": 3,
            "min": 0,
            "orientation": "horizontal",
            "style": "IPY_MODEL_0958f6389a3e488783e4586eed8d1a9c",
            "value": 3
          }
        },
        "f0f1d90655f24d9e99eebb60a52c19bc": {
          "model_module": "@jupyter-widgets/controls",
          "model_name": "HTMLModel",
          "model_module_version": "1.5.0",
          "state": {
            "_dom_classes": [],
            "_model_module": "@jupyter-widgets/controls",
            "_model_module_version": "1.5.0",
            "_model_name": "HTMLModel",
            "_view_count": null,
            "_view_module": "@jupyter-widgets/controls",
            "_view_module_version": "1.5.0",
            "_view_name": "HTMLView",
            "description": "",
            "description_tooltip": null,
            "layout": "IPY_MODEL_d2f857e6fd224c8fac56e5fbb55e3f8b",
            "placeholder": "​",
            "style": "IPY_MODEL_4a8be3dd9d414d88ab8ace75260cb454",
            "value": " 3/3 [00:28&lt;00:00,  9.49s/it]"
          }
        },
        "aacd70fef6ab471aaf61aba1bed8d7b4": {
          "model_module": "@jupyter-widgets/base",
          "model_name": "LayoutModel",
          "model_module_version": "1.2.0",
          "state": {
            "_model_module": "@jupyter-widgets/base",
            "_model_module_version": "1.2.0",
            "_model_name": "LayoutModel",
            "_view_count": null,
            "_view_module": "@jupyter-widgets/base",
            "_view_module_version": "1.2.0",
            "_view_name": "LayoutView",
            "align_content": null,
            "align_items": null,
            "align_self": null,
            "border": null,
            "bottom": null,
            "display": null,
            "flex": null,
            "flex_flow": null,
            "grid_area": null,
            "grid_auto_columns": null,
            "grid_auto_flow": null,
            "grid_auto_rows": null,
            "grid_column": null,
            "grid_gap": null,
            "grid_row": null,
            "grid_template_areas": null,
            "grid_template_columns": null,
            "grid_template_rows": null,
            "height": null,
            "justify_content": null,
            "justify_items": null,
            "left": null,
            "margin": null,
            "max_height": null,
            "max_width": null,
            "min_height": null,
            "min_width": null,
            "object_fit": null,
            "object_position": null,
            "order": null,
            "overflow": null,
            "overflow_x": null,
            "overflow_y": null,
            "padding": null,
            "right": null,
            "top": null,
            "visibility": null,
            "width": null
          }
        },
        "df2db820a50e42f680101f33a7dd461e": {
          "model_module": "@jupyter-widgets/base",
          "model_name": "LayoutModel",
          "model_module_version": "1.2.0",
          "state": {
            "_model_module": "@jupyter-widgets/base",
            "_model_module_version": "1.2.0",
            "_model_name": "LayoutModel",
            "_view_count": null,
            "_view_module": "@jupyter-widgets/base",
            "_view_module_version": "1.2.0",
            "_view_name": "LayoutView",
            "align_content": null,
            "align_items": null,
            "align_self": null,
            "border": null,
            "bottom": null,
            "display": null,
            "flex": null,
            "flex_flow": null,
            "grid_area": null,
            "grid_auto_columns": null,
            "grid_auto_flow": null,
            "grid_auto_rows": null,
            "grid_column": null,
            "grid_gap": null,
            "grid_row": null,
            "grid_template_areas": null,
            "grid_template_columns": null,
            "grid_template_rows": null,
            "height": null,
            "justify_content": null,
            "justify_items": null,
            "left": null,
            "margin": null,
            "max_height": null,
            "max_width": null,
            "min_height": null,
            "min_width": null,
            "object_fit": null,
            "object_position": null,
            "order": null,
            "overflow": null,
            "overflow_x": null,
            "overflow_y": null,
            "padding": null,
            "right": null,
            "top": null,
            "visibility": null,
            "width": null
          }
        },
        "f3cee5724dc84f29a9993180ab2f9740": {
          "model_module": "@jupyter-widgets/controls",
          "model_name": "DescriptionStyleModel",
          "model_module_version": "1.5.0",
          "state": {
            "_model_module": "@jupyter-widgets/controls",
            "_model_module_version": "1.5.0",
            "_model_name": "DescriptionStyleModel",
            "_view_count": null,
            "_view_module": "@jupyter-widgets/base",
            "_view_module_version": "1.2.0",
            "_view_name": "StyleView",
            "description_width": ""
          }
        },
        "941f4fc21c3c4cfb8e6037fe13ca7bb2": {
          "model_module": "@jupyter-widgets/base",
          "model_name": "LayoutModel",
          "model_module_version": "1.2.0",
          "state": {
            "_model_module": "@jupyter-widgets/base",
            "_model_module_version": "1.2.0",
            "_model_name": "LayoutModel",
            "_view_count": null,
            "_view_module": "@jupyter-widgets/base",
            "_view_module_version": "1.2.0",
            "_view_name": "LayoutView",
            "align_content": null,
            "align_items": null,
            "align_self": null,
            "border": null,
            "bottom": null,
            "display": null,
            "flex": null,
            "flex_flow": null,
            "grid_area": null,
            "grid_auto_columns": null,
            "grid_auto_flow": null,
            "grid_auto_rows": null,
            "grid_column": null,
            "grid_gap": null,
            "grid_row": null,
            "grid_template_areas": null,
            "grid_template_columns": null,
            "grid_template_rows": null,
            "height": null,
            "justify_content": null,
            "justify_items": null,
            "left": null,
            "margin": null,
            "max_height": null,
            "max_width": null,
            "min_height": null,
            "min_width": null,
            "object_fit": null,
            "object_position": null,
            "order": null,
            "overflow": null,
            "overflow_x": null,
            "overflow_y": null,
            "padding": null,
            "right": null,
            "top": null,
            "visibility": null,
            "width": null
          }
        },
        "0958f6389a3e488783e4586eed8d1a9c": {
          "model_module": "@jupyter-widgets/controls",
          "model_name": "ProgressStyleModel",
          "model_module_version": "1.5.0",
          "state": {
            "_model_module": "@jupyter-widgets/controls",
            "_model_module_version": "1.5.0",
            "_model_name": "ProgressStyleModel",
            "_view_count": null,
            "_view_module": "@jupyter-widgets/base",
            "_view_module_version": "1.2.0",
            "_view_name": "StyleView",
            "bar_color": null,
            "description_width": ""
          }
        },
        "d2f857e6fd224c8fac56e5fbb55e3f8b": {
          "model_module": "@jupyter-widgets/base",
          "model_name": "LayoutModel",
          "model_module_version": "1.2.0",
          "state": {
            "_model_module": "@jupyter-widgets/base",
            "_model_module_version": "1.2.0",
            "_model_name": "LayoutModel",
            "_view_count": null,
            "_view_module": "@jupyter-widgets/base",
            "_view_module_version": "1.2.0",
            "_view_name": "LayoutView",
            "align_content": null,
            "align_items": null,
            "align_self": null,
            "border": null,
            "bottom": null,
            "display": null,
            "flex": null,
            "flex_flow": null,
            "grid_area": null,
            "grid_auto_columns": null,
            "grid_auto_flow": null,
            "grid_auto_rows": null,
            "grid_column": null,
            "grid_gap": null,
            "grid_row": null,
            "grid_template_areas": null,
            "grid_template_columns": null,
            "grid_template_rows": null,
            "height": null,
            "justify_content": null,
            "justify_items": null,
            "left": null,
            "margin": null,
            "max_height": null,
            "max_width": null,
            "min_height": null,
            "min_width": null,
            "object_fit": null,
            "object_position": null,
            "order": null,
            "overflow": null,
            "overflow_x": null,
            "overflow_y": null,
            "padding": null,
            "right": null,
            "top": null,
            "visibility": null,
            "width": null
          }
        },
        "4a8be3dd9d414d88ab8ace75260cb454": {
          "model_module": "@jupyter-widgets/controls",
          "model_name": "DescriptionStyleModel",
          "model_module_version": "1.5.0",
          "state": {
            "_model_module": "@jupyter-widgets/controls",
            "_model_module_version": "1.5.0",
            "_model_name": "DescriptionStyleModel",
            "_view_count": null,
            "_view_module": "@jupyter-widgets/base",
            "_view_module_version": "1.2.0",
            "_view_name": "StyleView",
            "description_width": ""
          }
        },
        "7304f7a308b64df586db044c4cdd1957": {
          "model_module": "@jupyter-widgets/controls",
          "model_name": "HBoxModel",
          "model_module_version": "1.5.0",
          "state": {
            "_dom_classes": [],
            "_model_module": "@jupyter-widgets/controls",
            "_model_module_version": "1.5.0",
            "_model_name": "HBoxModel",
            "_view_count": null,
            "_view_module": "@jupyter-widgets/controls",
            "_view_module_version": "1.5.0",
            "_view_name": "HBoxView",
            "box_style": "",
            "children": [
              "IPY_MODEL_7150e6d07df4413b9cf6130d0f67e310",
              "IPY_MODEL_76510c34430d4afea82d5929ce8028df",
              "IPY_MODEL_6d11ac10c2064aaea4817e0ff19fd06d"
            ],
            "layout": "IPY_MODEL_1aa425ea227848368fdd3c5a830e140d"
          }
        },
        "7150e6d07df4413b9cf6130d0f67e310": {
          "model_module": "@jupyter-widgets/controls",
          "model_name": "HTMLModel",
          "model_module_version": "1.5.0",
          "state": {
            "_dom_classes": [],
            "_model_module": "@jupyter-widgets/controls",
            "_model_module_version": "1.5.0",
            "_model_name": "HTMLModel",
            "_view_count": null,
            "_view_module": "@jupyter-widgets/controls",
            "_view_module_version": "1.5.0",
            "_view_name": "HTMLView",
            "description": "",
            "description_tooltip": null,
            "layout": "IPY_MODEL_f1b543cc007442fc9fe93926f9976cb5",
            "placeholder": "​",
            "style": "IPY_MODEL_b5f98a1a319d46b3afd8da0d73e83784",
            "value": "Epochs: 100%"
          }
        },
        "76510c34430d4afea82d5929ce8028df": {
          "model_module": "@jupyter-widgets/controls",
          "model_name": "FloatProgressModel",
          "model_module_version": "1.5.0",
          "state": {
            "_dom_classes": [],
            "_model_module": "@jupyter-widgets/controls",
            "_model_module_version": "1.5.0",
            "_model_name": "FloatProgressModel",
            "_view_count": null,
            "_view_module": "@jupyter-widgets/controls",
            "_view_module_version": "1.5.0",
            "_view_name": "ProgressView",
            "bar_style": "success",
            "description": "",
            "description_tooltip": null,
            "layout": "IPY_MODEL_d7146f53dd96431b9d7fd6764a56e50e",
            "max": 3,
            "min": 0,
            "orientation": "horizontal",
            "style": "IPY_MODEL_bbf3ed147823429bb7e8a122d2bee100",
            "value": 3
          }
        },
        "6d11ac10c2064aaea4817e0ff19fd06d": {
          "model_module": "@jupyter-widgets/controls",
          "model_name": "HTMLModel",
          "model_module_version": "1.5.0",
          "state": {
            "_dom_classes": [],
            "_model_module": "@jupyter-widgets/controls",
            "_model_module_version": "1.5.0",
            "_model_name": "HTMLModel",
            "_view_count": null,
            "_view_module": "@jupyter-widgets/controls",
            "_view_module_version": "1.5.0",
            "_view_name": "HTMLView",
            "description": "",
            "description_tooltip": null,
            "layout": "IPY_MODEL_5d9b37cec2824757965543f07ce75b62",
            "placeholder": "​",
            "style": "IPY_MODEL_5e10c74a9a604bcd9dc43267ce170882",
            "value": " 3/3 [00:29&lt;00:00,  9.84s/it]"
          }
        },
        "1aa425ea227848368fdd3c5a830e140d": {
          "model_module": "@jupyter-widgets/base",
          "model_name": "LayoutModel",
          "model_module_version": "1.2.0",
          "state": {
            "_model_module": "@jupyter-widgets/base",
            "_model_module_version": "1.2.0",
            "_model_name": "LayoutModel",
            "_view_count": null,
            "_view_module": "@jupyter-widgets/base",
            "_view_module_version": "1.2.0",
            "_view_name": "LayoutView",
            "align_content": null,
            "align_items": null,
            "align_self": null,
            "border": null,
            "bottom": null,
            "display": null,
            "flex": null,
            "flex_flow": null,
            "grid_area": null,
            "grid_auto_columns": null,
            "grid_auto_flow": null,
            "grid_auto_rows": null,
            "grid_column": null,
            "grid_gap": null,
            "grid_row": null,
            "grid_template_areas": null,
            "grid_template_columns": null,
            "grid_template_rows": null,
            "height": null,
            "justify_content": null,
            "justify_items": null,
            "left": null,
            "margin": null,
            "max_height": null,
            "max_width": null,
            "min_height": null,
            "min_width": null,
            "object_fit": null,
            "object_position": null,
            "order": null,
            "overflow": null,
            "overflow_x": null,
            "overflow_y": null,
            "padding": null,
            "right": null,
            "top": null,
            "visibility": null,
            "width": null
          }
        },
        "f1b543cc007442fc9fe93926f9976cb5": {
          "model_module": "@jupyter-widgets/base",
          "model_name": "LayoutModel",
          "model_module_version": "1.2.0",
          "state": {
            "_model_module": "@jupyter-widgets/base",
            "_model_module_version": "1.2.0",
            "_model_name": "LayoutModel",
            "_view_count": null,
            "_view_module": "@jupyter-widgets/base",
            "_view_module_version": "1.2.0",
            "_view_name": "LayoutView",
            "align_content": null,
            "align_items": null,
            "align_self": null,
            "border": null,
            "bottom": null,
            "display": null,
            "flex": null,
            "flex_flow": null,
            "grid_area": null,
            "grid_auto_columns": null,
            "grid_auto_flow": null,
            "grid_auto_rows": null,
            "grid_column": null,
            "grid_gap": null,
            "grid_row": null,
            "grid_template_areas": null,
            "grid_template_columns": null,
            "grid_template_rows": null,
            "height": null,
            "justify_content": null,
            "justify_items": null,
            "left": null,
            "margin": null,
            "max_height": null,
            "max_width": null,
            "min_height": null,
            "min_width": null,
            "object_fit": null,
            "object_position": null,
            "order": null,
            "overflow": null,
            "overflow_x": null,
            "overflow_y": null,
            "padding": null,
            "right": null,
            "top": null,
            "visibility": null,
            "width": null
          }
        },
        "b5f98a1a319d46b3afd8da0d73e83784": {
          "model_module": "@jupyter-widgets/controls",
          "model_name": "DescriptionStyleModel",
          "model_module_version": "1.5.0",
          "state": {
            "_model_module": "@jupyter-widgets/controls",
            "_model_module_version": "1.5.0",
            "_model_name": "DescriptionStyleModel",
            "_view_count": null,
            "_view_module": "@jupyter-widgets/base",
            "_view_module_version": "1.2.0",
            "_view_name": "StyleView",
            "description_width": ""
          }
        },
        "d7146f53dd96431b9d7fd6764a56e50e": {
          "model_module": "@jupyter-widgets/base",
          "model_name": "LayoutModel",
          "model_module_version": "1.2.0",
          "state": {
            "_model_module": "@jupyter-widgets/base",
            "_model_module_version": "1.2.0",
            "_model_name": "LayoutModel",
            "_view_count": null,
            "_view_module": "@jupyter-widgets/base",
            "_view_module_version": "1.2.0",
            "_view_name": "LayoutView",
            "align_content": null,
            "align_items": null,
            "align_self": null,
            "border": null,
            "bottom": null,
            "display": null,
            "flex": null,
            "flex_flow": null,
            "grid_area": null,
            "grid_auto_columns": null,
            "grid_auto_flow": null,
            "grid_auto_rows": null,
            "grid_column": null,
            "grid_gap": null,
            "grid_row": null,
            "grid_template_areas": null,
            "grid_template_columns": null,
            "grid_template_rows": null,
            "height": null,
            "justify_content": null,
            "justify_items": null,
            "left": null,
            "margin": null,
            "max_height": null,
            "max_width": null,
            "min_height": null,
            "min_width": null,
            "object_fit": null,
            "object_position": null,
            "order": null,
            "overflow": null,
            "overflow_x": null,
            "overflow_y": null,
            "padding": null,
            "right": null,
            "top": null,
            "visibility": null,
            "width": null
          }
        },
        "bbf3ed147823429bb7e8a122d2bee100": {
          "model_module": "@jupyter-widgets/controls",
          "model_name": "ProgressStyleModel",
          "model_module_version": "1.5.0",
          "state": {
            "_model_module": "@jupyter-widgets/controls",
            "_model_module_version": "1.5.0",
            "_model_name": "ProgressStyleModel",
            "_view_count": null,
            "_view_module": "@jupyter-widgets/base",
            "_view_module_version": "1.2.0",
            "_view_name": "StyleView",
            "bar_color": null,
            "description_width": ""
          }
        },
        "5d9b37cec2824757965543f07ce75b62": {
          "model_module": "@jupyter-widgets/base",
          "model_name": "LayoutModel",
          "model_module_version": "1.2.0",
          "state": {
            "_model_module": "@jupyter-widgets/base",
            "_model_module_version": "1.2.0",
            "_model_name": "LayoutModel",
            "_view_count": null,
            "_view_module": "@jupyter-widgets/base",
            "_view_module_version": "1.2.0",
            "_view_name": "LayoutView",
            "align_content": null,
            "align_items": null,
            "align_self": null,
            "border": null,
            "bottom": null,
            "display": null,
            "flex": null,
            "flex_flow": null,
            "grid_area": null,
            "grid_auto_columns": null,
            "grid_auto_flow": null,
            "grid_auto_rows": null,
            "grid_column": null,
            "grid_gap": null,
            "grid_row": null,
            "grid_template_areas": null,
            "grid_template_columns": null,
            "grid_template_rows": null,
            "height": null,
            "justify_content": null,
            "justify_items": null,
            "left": null,
            "margin": null,
            "max_height": null,
            "max_width": null,
            "min_height": null,
            "min_width": null,
            "object_fit": null,
            "object_position": null,
            "order": null,
            "overflow": null,
            "overflow_x": null,
            "overflow_y": null,
            "padding": null,
            "right": null,
            "top": null,
            "visibility": null,
            "width": null
          }
        },
        "5e10c74a9a604bcd9dc43267ce170882": {
          "model_module": "@jupyter-widgets/controls",
          "model_name": "DescriptionStyleModel",
          "model_module_version": "1.5.0",
          "state": {
            "_model_module": "@jupyter-widgets/controls",
            "_model_module_version": "1.5.0",
            "_model_name": "DescriptionStyleModel",
            "_view_count": null,
            "_view_module": "@jupyter-widgets/base",
            "_view_module_version": "1.2.0",
            "_view_name": "StyleView",
            "description_width": ""
          }
        },
        "1df37a643b9246a4af23ac25e8f50315": {
          "model_module": "@jupyter-widgets/controls",
          "model_name": "HBoxModel",
          "model_module_version": "1.5.0",
          "state": {
            "_dom_classes": [],
            "_model_module": "@jupyter-widgets/controls",
            "_model_module_version": "1.5.0",
            "_model_name": "HBoxModel",
            "_view_count": null,
            "_view_module": "@jupyter-widgets/controls",
            "_view_module_version": "1.5.0",
            "_view_name": "HBoxView",
            "box_style": "",
            "children": [
              "IPY_MODEL_63d39b5eaa76479e9082ac82ff3d011e",
              "IPY_MODEL_1e693f0aeae14b979fbdd9f59e78d6a3",
              "IPY_MODEL_94e40329fe4d450097182ce409dcac76"
            ],
            "layout": "IPY_MODEL_c20056cae3024d3ab3257ec0db7d4a9d"
          }
        },
        "63d39b5eaa76479e9082ac82ff3d011e": {
          "model_module": "@jupyter-widgets/controls",
          "model_name": "HTMLModel",
          "model_module_version": "1.5.0",
          "state": {
            "_dom_classes": [],
            "_model_module": "@jupyter-widgets/controls",
            "_model_module_version": "1.5.0",
            "_model_name": "HTMLModel",
            "_view_count": null,
            "_view_module": "@jupyter-widgets/controls",
            "_view_module_version": "1.5.0",
            "_view_name": "HTMLView",
            "description": "",
            "description_tooltip": null,
            "layout": "IPY_MODEL_162fecd209cb4393916b09d38b91904f",
            "placeholder": "​",
            "style": "IPY_MODEL_6177c54daddb4be49724028a772f9bac",
            "value": "Epochs: 100%"
          }
        },
        "1e693f0aeae14b979fbdd9f59e78d6a3": {
          "model_module": "@jupyter-widgets/controls",
          "model_name": "FloatProgressModel",
          "model_module_version": "1.5.0",
          "state": {
            "_dom_classes": [],
            "_model_module": "@jupyter-widgets/controls",
            "_model_module_version": "1.5.0",
            "_model_name": "FloatProgressModel",
            "_view_count": null,
            "_view_module": "@jupyter-widgets/controls",
            "_view_module_version": "1.5.0",
            "_view_name": "ProgressView",
            "bar_style": "success",
            "description": "",
            "description_tooltip": null,
            "layout": "IPY_MODEL_ab7e7572fb5949e182dcb4b9cfd82baf",
            "max": 3,
            "min": 0,
            "orientation": "horizontal",
            "style": "IPY_MODEL_66271634f4344239a617b45e170e1152",
            "value": 3
          }
        },
        "94e40329fe4d450097182ce409dcac76": {
          "model_module": "@jupyter-widgets/controls",
          "model_name": "HTMLModel",
          "model_module_version": "1.5.0",
          "state": {
            "_dom_classes": [],
            "_model_module": "@jupyter-widgets/controls",
            "_model_module_version": "1.5.0",
            "_model_name": "HTMLModel",
            "_view_count": null,
            "_view_module": "@jupyter-widgets/controls",
            "_view_module_version": "1.5.0",
            "_view_name": "HTMLView",
            "description": "",
            "description_tooltip": null,
            "layout": "IPY_MODEL_d5bd5c74d0f44588a2ef23f83716eae1",
            "placeholder": "​",
            "style": "IPY_MODEL_875b5a1a5f9f421c98e27e0764b6e070",
            "value": " 3/3 [00:29&lt;00:00,  9.76s/it]"
          }
        },
        "c20056cae3024d3ab3257ec0db7d4a9d": {
          "model_module": "@jupyter-widgets/base",
          "model_name": "LayoutModel",
          "model_module_version": "1.2.0",
          "state": {
            "_model_module": "@jupyter-widgets/base",
            "_model_module_version": "1.2.0",
            "_model_name": "LayoutModel",
            "_view_count": null,
            "_view_module": "@jupyter-widgets/base",
            "_view_module_version": "1.2.0",
            "_view_name": "LayoutView",
            "align_content": null,
            "align_items": null,
            "align_self": null,
            "border": null,
            "bottom": null,
            "display": null,
            "flex": null,
            "flex_flow": null,
            "grid_area": null,
            "grid_auto_columns": null,
            "grid_auto_flow": null,
            "grid_auto_rows": null,
            "grid_column": null,
            "grid_gap": null,
            "grid_row": null,
            "grid_template_areas": null,
            "grid_template_columns": null,
            "grid_template_rows": null,
            "height": null,
            "justify_content": null,
            "justify_items": null,
            "left": null,
            "margin": null,
            "max_height": null,
            "max_width": null,
            "min_height": null,
            "min_width": null,
            "object_fit": null,
            "object_position": null,
            "order": null,
            "overflow": null,
            "overflow_x": null,
            "overflow_y": null,
            "padding": null,
            "right": null,
            "top": null,
            "visibility": null,
            "width": null
          }
        },
        "162fecd209cb4393916b09d38b91904f": {
          "model_module": "@jupyter-widgets/base",
          "model_name": "LayoutModel",
          "model_module_version": "1.2.0",
          "state": {
            "_model_module": "@jupyter-widgets/base",
            "_model_module_version": "1.2.0",
            "_model_name": "LayoutModel",
            "_view_count": null,
            "_view_module": "@jupyter-widgets/base",
            "_view_module_version": "1.2.0",
            "_view_name": "LayoutView",
            "align_content": null,
            "align_items": null,
            "align_self": null,
            "border": null,
            "bottom": null,
            "display": null,
            "flex": null,
            "flex_flow": null,
            "grid_area": null,
            "grid_auto_columns": null,
            "grid_auto_flow": null,
            "grid_auto_rows": null,
            "grid_column": null,
            "grid_gap": null,
            "grid_row": null,
            "grid_template_areas": null,
            "grid_template_columns": null,
            "grid_template_rows": null,
            "height": null,
            "justify_content": null,
            "justify_items": null,
            "left": null,
            "margin": null,
            "max_height": null,
            "max_width": null,
            "min_height": null,
            "min_width": null,
            "object_fit": null,
            "object_position": null,
            "order": null,
            "overflow": null,
            "overflow_x": null,
            "overflow_y": null,
            "padding": null,
            "right": null,
            "top": null,
            "visibility": null,
            "width": null
          }
        },
        "6177c54daddb4be49724028a772f9bac": {
          "model_module": "@jupyter-widgets/controls",
          "model_name": "DescriptionStyleModel",
          "model_module_version": "1.5.0",
          "state": {
            "_model_module": "@jupyter-widgets/controls",
            "_model_module_version": "1.5.0",
            "_model_name": "DescriptionStyleModel",
            "_view_count": null,
            "_view_module": "@jupyter-widgets/base",
            "_view_module_version": "1.2.0",
            "_view_name": "StyleView",
            "description_width": ""
          }
        },
        "ab7e7572fb5949e182dcb4b9cfd82baf": {
          "model_module": "@jupyter-widgets/base",
          "model_name": "LayoutModel",
          "model_module_version": "1.2.0",
          "state": {
            "_model_module": "@jupyter-widgets/base",
            "_model_module_version": "1.2.0",
            "_model_name": "LayoutModel",
            "_view_count": null,
            "_view_module": "@jupyter-widgets/base",
            "_view_module_version": "1.2.0",
            "_view_name": "LayoutView",
            "align_content": null,
            "align_items": null,
            "align_self": null,
            "border": null,
            "bottom": null,
            "display": null,
            "flex": null,
            "flex_flow": null,
            "grid_area": null,
            "grid_auto_columns": null,
            "grid_auto_flow": null,
            "grid_auto_rows": null,
            "grid_column": null,
            "grid_gap": null,
            "grid_row": null,
            "grid_template_areas": null,
            "grid_template_columns": null,
            "grid_template_rows": null,
            "height": null,
            "justify_content": null,
            "justify_items": null,
            "left": null,
            "margin": null,
            "max_height": null,
            "max_width": null,
            "min_height": null,
            "min_width": null,
            "object_fit": null,
            "object_position": null,
            "order": null,
            "overflow": null,
            "overflow_x": null,
            "overflow_y": null,
            "padding": null,
            "right": null,
            "top": null,
            "visibility": null,
            "width": null
          }
        },
        "66271634f4344239a617b45e170e1152": {
          "model_module": "@jupyter-widgets/controls",
          "model_name": "ProgressStyleModel",
          "model_module_version": "1.5.0",
          "state": {
            "_model_module": "@jupyter-widgets/controls",
            "_model_module_version": "1.5.0",
            "_model_name": "ProgressStyleModel",
            "_view_count": null,
            "_view_module": "@jupyter-widgets/base",
            "_view_module_version": "1.2.0",
            "_view_name": "StyleView",
            "bar_color": null,
            "description_width": ""
          }
        },
        "d5bd5c74d0f44588a2ef23f83716eae1": {
          "model_module": "@jupyter-widgets/base",
          "model_name": "LayoutModel",
          "model_module_version": "1.2.0",
          "state": {
            "_model_module": "@jupyter-widgets/base",
            "_model_module_version": "1.2.0",
            "_model_name": "LayoutModel",
            "_view_count": null,
            "_view_module": "@jupyter-widgets/base",
            "_view_module_version": "1.2.0",
            "_view_name": "LayoutView",
            "align_content": null,
            "align_items": null,
            "align_self": null,
            "border": null,
            "bottom": null,
            "display": null,
            "flex": null,
            "flex_flow": null,
            "grid_area": null,
            "grid_auto_columns": null,
            "grid_auto_flow": null,
            "grid_auto_rows": null,
            "grid_column": null,
            "grid_gap": null,
            "grid_row": null,
            "grid_template_areas": null,
            "grid_template_columns": null,
            "grid_template_rows": null,
            "height": null,
            "justify_content": null,
            "justify_items": null,
            "left": null,
            "margin": null,
            "max_height": null,
            "max_width": null,
            "min_height": null,
            "min_width": null,
            "object_fit": null,
            "object_position": null,
            "order": null,
            "overflow": null,
            "overflow_x": null,
            "overflow_y": null,
            "padding": null,
            "right": null,
            "top": null,
            "visibility": null,
            "width": null
          }
        },
        "875b5a1a5f9f421c98e27e0764b6e070": {
          "model_module": "@jupyter-widgets/controls",
          "model_name": "DescriptionStyleModel",
          "model_module_version": "1.5.0",
          "state": {
            "_model_module": "@jupyter-widgets/controls",
            "_model_module_version": "1.5.0",
            "_model_name": "DescriptionStyleModel",
            "_view_count": null,
            "_view_module": "@jupyter-widgets/base",
            "_view_module_version": "1.2.0",
            "_view_name": "StyleView",
            "description_width": ""
          }
        },
        "5a6f30dba7ff445c9994c8e15a089998": {
          "model_module": "@jupyter-widgets/controls",
          "model_name": "HBoxModel",
          "model_module_version": "1.5.0",
          "state": {
            "_dom_classes": [],
            "_model_module": "@jupyter-widgets/controls",
            "_model_module_version": "1.5.0",
            "_model_name": "HBoxModel",
            "_view_count": null,
            "_view_module": "@jupyter-widgets/controls",
            "_view_module_version": "1.5.0",
            "_view_name": "HBoxView",
            "box_style": "",
            "children": [
              "IPY_MODEL_67529b29dc664b61be0575e059841575",
              "IPY_MODEL_304ab61bb64f4a3fb94a2675fcae51cd",
              "IPY_MODEL_a42caf9e8bf4486f93bf6c53889783be"
            ],
            "layout": "IPY_MODEL_d76ef8ee745c405bbe93e9fc90d1fff4"
          }
        },
        "67529b29dc664b61be0575e059841575": {
          "model_module": "@jupyter-widgets/controls",
          "model_name": "HTMLModel",
          "model_module_version": "1.5.0",
          "state": {
            "_dom_classes": [],
            "_model_module": "@jupyter-widgets/controls",
            "_model_module_version": "1.5.0",
            "_model_name": "HTMLModel",
            "_view_count": null,
            "_view_module": "@jupyter-widgets/controls",
            "_view_module_version": "1.5.0",
            "_view_name": "HTMLView",
            "description": "",
            "description_tooltip": null,
            "layout": "IPY_MODEL_ec7e5693bfe74b1cbf8645218cdadfa3",
            "placeholder": "​",
            "style": "IPY_MODEL_c5c0ae7c4fb145cd9ed55fa6e228ef6c",
            "value": "Epochs: 100%"
          }
        },
        "304ab61bb64f4a3fb94a2675fcae51cd": {
          "model_module": "@jupyter-widgets/controls",
          "model_name": "FloatProgressModel",
          "model_module_version": "1.5.0",
          "state": {
            "_dom_classes": [],
            "_model_module": "@jupyter-widgets/controls",
            "_model_module_version": "1.5.0",
            "_model_name": "FloatProgressModel",
            "_view_count": null,
            "_view_module": "@jupyter-widgets/controls",
            "_view_module_version": "1.5.0",
            "_view_name": "ProgressView",
            "bar_style": "success",
            "description": "",
            "description_tooltip": null,
            "layout": "IPY_MODEL_fa61d6cd1c77403c91cf9ca284f65e39",
            "max": 10,
            "min": 0,
            "orientation": "horizontal",
            "style": "IPY_MODEL_fec325024c904e6ab23f63c960cbb2a0",
            "value": 10
          }
        },
        "a42caf9e8bf4486f93bf6c53889783be": {
          "model_module": "@jupyter-widgets/controls",
          "model_name": "HTMLModel",
          "model_module_version": "1.5.0",
          "state": {
            "_dom_classes": [],
            "_model_module": "@jupyter-widgets/controls",
            "_model_module_version": "1.5.0",
            "_model_name": "HTMLModel",
            "_view_count": null,
            "_view_module": "@jupyter-widgets/controls",
            "_view_module_version": "1.5.0",
            "_view_name": "HTMLView",
            "description": "",
            "description_tooltip": null,
            "layout": "IPY_MODEL_17fae171d54d4d01bd39edac5b9a04ee",
            "placeholder": "​",
            "style": "IPY_MODEL_017805e275b74bdf8d7d8fe9e19a624f",
            "value": " 10/10 [01:58&lt;00:00, 11.87s/it]"
          }
        },
        "d76ef8ee745c405bbe93e9fc90d1fff4": {
          "model_module": "@jupyter-widgets/base",
          "model_name": "LayoutModel",
          "model_module_version": "1.2.0",
          "state": {
            "_model_module": "@jupyter-widgets/base",
            "_model_module_version": "1.2.0",
            "_model_name": "LayoutModel",
            "_view_count": null,
            "_view_module": "@jupyter-widgets/base",
            "_view_module_version": "1.2.0",
            "_view_name": "LayoutView",
            "align_content": null,
            "align_items": null,
            "align_self": null,
            "border": null,
            "bottom": null,
            "display": null,
            "flex": null,
            "flex_flow": null,
            "grid_area": null,
            "grid_auto_columns": null,
            "grid_auto_flow": null,
            "grid_auto_rows": null,
            "grid_column": null,
            "grid_gap": null,
            "grid_row": null,
            "grid_template_areas": null,
            "grid_template_columns": null,
            "grid_template_rows": null,
            "height": null,
            "justify_content": null,
            "justify_items": null,
            "left": null,
            "margin": null,
            "max_height": null,
            "max_width": null,
            "min_height": null,
            "min_width": null,
            "object_fit": null,
            "object_position": null,
            "order": null,
            "overflow": null,
            "overflow_x": null,
            "overflow_y": null,
            "padding": null,
            "right": null,
            "top": null,
            "visibility": null,
            "width": null
          }
        },
        "ec7e5693bfe74b1cbf8645218cdadfa3": {
          "model_module": "@jupyter-widgets/base",
          "model_name": "LayoutModel",
          "model_module_version": "1.2.0",
          "state": {
            "_model_module": "@jupyter-widgets/base",
            "_model_module_version": "1.2.0",
            "_model_name": "LayoutModel",
            "_view_count": null,
            "_view_module": "@jupyter-widgets/base",
            "_view_module_version": "1.2.0",
            "_view_name": "LayoutView",
            "align_content": null,
            "align_items": null,
            "align_self": null,
            "border": null,
            "bottom": null,
            "display": null,
            "flex": null,
            "flex_flow": null,
            "grid_area": null,
            "grid_auto_columns": null,
            "grid_auto_flow": null,
            "grid_auto_rows": null,
            "grid_column": null,
            "grid_gap": null,
            "grid_row": null,
            "grid_template_areas": null,
            "grid_template_columns": null,
            "grid_template_rows": null,
            "height": null,
            "justify_content": null,
            "justify_items": null,
            "left": null,
            "margin": null,
            "max_height": null,
            "max_width": null,
            "min_height": null,
            "min_width": null,
            "object_fit": null,
            "object_position": null,
            "order": null,
            "overflow": null,
            "overflow_x": null,
            "overflow_y": null,
            "padding": null,
            "right": null,
            "top": null,
            "visibility": null,
            "width": null
          }
        },
        "c5c0ae7c4fb145cd9ed55fa6e228ef6c": {
          "model_module": "@jupyter-widgets/controls",
          "model_name": "DescriptionStyleModel",
          "model_module_version": "1.5.0",
          "state": {
            "_model_module": "@jupyter-widgets/controls",
            "_model_module_version": "1.5.0",
            "_model_name": "DescriptionStyleModel",
            "_view_count": null,
            "_view_module": "@jupyter-widgets/base",
            "_view_module_version": "1.2.0",
            "_view_name": "StyleView",
            "description_width": ""
          }
        },
        "fa61d6cd1c77403c91cf9ca284f65e39": {
          "model_module": "@jupyter-widgets/base",
          "model_name": "LayoutModel",
          "model_module_version": "1.2.0",
          "state": {
            "_model_module": "@jupyter-widgets/base",
            "_model_module_version": "1.2.0",
            "_model_name": "LayoutModel",
            "_view_count": null,
            "_view_module": "@jupyter-widgets/base",
            "_view_module_version": "1.2.0",
            "_view_name": "LayoutView",
            "align_content": null,
            "align_items": null,
            "align_self": null,
            "border": null,
            "bottom": null,
            "display": null,
            "flex": null,
            "flex_flow": null,
            "grid_area": null,
            "grid_auto_columns": null,
            "grid_auto_flow": null,
            "grid_auto_rows": null,
            "grid_column": null,
            "grid_gap": null,
            "grid_row": null,
            "grid_template_areas": null,
            "grid_template_columns": null,
            "grid_template_rows": null,
            "height": null,
            "justify_content": null,
            "justify_items": null,
            "left": null,
            "margin": null,
            "max_height": null,
            "max_width": null,
            "min_height": null,
            "min_width": null,
            "object_fit": null,
            "object_position": null,
            "order": null,
            "overflow": null,
            "overflow_x": null,
            "overflow_y": null,
            "padding": null,
            "right": null,
            "top": null,
            "visibility": null,
            "width": null
          }
        },
        "fec325024c904e6ab23f63c960cbb2a0": {
          "model_module": "@jupyter-widgets/controls",
          "model_name": "ProgressStyleModel",
          "model_module_version": "1.5.0",
          "state": {
            "_model_module": "@jupyter-widgets/controls",
            "_model_module_version": "1.5.0",
            "_model_name": "ProgressStyleModel",
            "_view_count": null,
            "_view_module": "@jupyter-widgets/base",
            "_view_module_version": "1.2.0",
            "_view_name": "StyleView",
            "bar_color": null,
            "description_width": ""
          }
        },
        "17fae171d54d4d01bd39edac5b9a04ee": {
          "model_module": "@jupyter-widgets/base",
          "model_name": "LayoutModel",
          "model_module_version": "1.2.0",
          "state": {
            "_model_module": "@jupyter-widgets/base",
            "_model_module_version": "1.2.0",
            "_model_name": "LayoutModel",
            "_view_count": null,
            "_view_module": "@jupyter-widgets/base",
            "_view_module_version": "1.2.0",
            "_view_name": "LayoutView",
            "align_content": null,
            "align_items": null,
            "align_self": null,
            "border": null,
            "bottom": null,
            "display": null,
            "flex": null,
            "flex_flow": null,
            "grid_area": null,
            "grid_auto_columns": null,
            "grid_auto_flow": null,
            "grid_auto_rows": null,
            "grid_column": null,
            "grid_gap": null,
            "grid_row": null,
            "grid_template_areas": null,
            "grid_template_columns": null,
            "grid_template_rows": null,
            "height": null,
            "justify_content": null,
            "justify_items": null,
            "left": null,
            "margin": null,
            "max_height": null,
            "max_width": null,
            "min_height": null,
            "min_width": null,
            "object_fit": null,
            "object_position": null,
            "order": null,
            "overflow": null,
            "overflow_x": null,
            "overflow_y": null,
            "padding": null,
            "right": null,
            "top": null,
            "visibility": null,
            "width": null
          }
        },
        "017805e275b74bdf8d7d8fe9e19a624f": {
          "model_module": "@jupyter-widgets/controls",
          "model_name": "DescriptionStyleModel",
          "model_module_version": "1.5.0",
          "state": {
            "_model_module": "@jupyter-widgets/controls",
            "_model_module_version": "1.5.0",
            "_model_name": "DescriptionStyleModel",
            "_view_count": null,
            "_view_module": "@jupyter-widgets/base",
            "_view_module_version": "1.2.0",
            "_view_name": "StyleView",
            "description_width": ""
          }
        }
      }
    }
  },
  "cells": [
    {
      "cell_type": "markdown",
      "metadata": {
        "id": "view-in-github",
        "colab_type": "text"
      },
      "source": [
        "<a href=\"https://colab.research.google.com/github/petron23/ML_random_projects/blob/main/cnn_mnist_basic.ipynb\" target=\"_parent\"><img src=\"https://colab.research.google.com/assets/colab-badge.svg\" alt=\"Open In Colab\"/></a>"
      ]
    },
    {
      "cell_type": "code",
      "execution_count": 29,
      "metadata": {
        "colab": {
          "base_uri": "https://localhost:8080/"
        },
        "id": "bDA9C_5Me1Oz",
        "outputId": "dbc26746-cc51-44bc-8af2-d32aca012e0b"
      },
      "outputs": [
        {
          "output_type": "stream",
          "name": "stdout",
          "text": [
            "PyTorch version: 2.1.0+cu118\n",
            "torchvision version: 0.16.0+cu118\n"
          ]
        }
      ],
      "source": [
        "# Import PyTorch, a popular deep learning framework\n",
        "import torch\n",
        "from torch import nn  # Import neural network modules\n",
        "\n",
        "# Import torchvision, a PyTorch library for computer vision tasks\n",
        "import torchvision\n",
        "from torchvision import datasets  # Import datasets for computer vision\n",
        "from torchvision.transforms import ToTensor  # Import image transformation functions\n",
        "\n",
        "# Import matplotlib for data visualization\n",
        "import matplotlib.pyplot as plt\n",
        "\n",
        "# Check versions to ensure compatibility\n",
        "print(f\"PyTorch version: {torch.__version__}\\ntorchvision version: {torchvision.__version__}\")\n"
      ]
    },
    {
      "cell_type": "code",
      "source": [
        "# Set up training data\n",
        "train_data = datasets.FashionMNIST(\n",
        "    root=\"data\",         # Directory where the dataset will be stored\n",
        "    train=True,          # Get the training data\n",
        "    download=True,       # Download the data if it doesn't exist on disk\n",
        "    transform=ToTensor(), # Convert images from PIL format to Torch tensors\n",
        "    target_transform=None # You can transform labels as well if needed\n",
        ")\n",
        "\n",
        "# Set up testing data\n",
        "test_data = datasets.FashionMNIST(\n",
        "    root=\"data\",\n",
        "    train=False,          # Get the testing data\n",
        "    download=True,\n",
        "    transform=ToTensor()  # Similar transformation for test data\n",
        ")\n",
        "\n",
        "class_names = train_data.classes\n",
        "class_names"
      ],
      "metadata": {
        "colab": {
          "base_uri": "https://localhost:8080/"
        },
        "id": "CRliNyg3e9vG",
        "outputId": "1f488c96-9133-4716-efea-0810699e2002"
      },
      "execution_count": 30,
      "outputs": [
        {
          "output_type": "execute_result",
          "data": {
            "text/plain": [
              "['T-shirt/top',\n",
              " 'Trouser',\n",
              " 'Pullover',\n",
              " 'Dress',\n",
              " 'Coat',\n",
              " 'Sandal',\n",
              " 'Shirt',\n",
              " 'Sneaker',\n",
              " 'Bag',\n",
              " 'Ankle boot']"
            ]
          },
          "metadata": {},
          "execution_count": 30
        }
      ]
    },
    {
      "cell_type": "code",
      "source": [
        "import matplotlib.pyplot as plt\n",
        "\n",
        "# Set a random seed for reproducibility\n",
        "torch.manual_seed(42)\n",
        "\n",
        "# Create a figure for plotting\n",
        "fig = plt.figure(figsize=(9, 9))\n",
        "\n",
        "# Define the number of rows and columns for the grid of images\n",
        "rows, cols = 4, 4\n",
        "\n",
        "# Loop to plot images\n",
        "for i in range(1, rows * cols + 1):\n",
        "    # Generate a random index to select a sample from the training dataset\n",
        "    random_idx = torch.randint(0, len(train_data), size=[1]).item()\n",
        "    img, label = train_data[random_idx]\n",
        "\n",
        "    # Add a subplot to the figure\n",
        "    fig.add_subplot(rows, cols, i)\n",
        "\n",
        "    # Display the image with a gray colormap\n",
        "    plt.imshow(img.squeeze(), cmap=\"gray\")\n",
        "\n",
        "    # Add a title to the subplot, assuming you have a list of class names\n",
        "    # Replace 'class_names' with your actual list of class names\n",
        "    plt.title(class_names[label])\n",
        "\n",
        "    # Turn off axis labels for cleaner presentation\n",
        "    plt.axis(False)\n",
        "\n",
        "# Show the plot with the selected images\n",
        "plt.show()\n"
      ],
      "metadata": {
        "colab": {
          "base_uri": "https://localhost:8080/",
          "height": 752
        },
        "id": "fI_SiEm3fGQJ",
        "outputId": "f8f98cbc-e48f-4385-fd24-1c4852b745d4"
      },
      "execution_count": 31,
      "outputs": [
        {
          "output_type": "display_data",
          "data": {
            "text/plain": [
              "<Figure size 900x900 with 16 Axes>"
            ],
            "image/png": "[encoded data removed]"
          },
          "metadata": {}
        }
      ]
    },
    {
      "cell_type": "code",
      "source": [
        "# Import DataLoader from torch.utils.data\n",
        "from torch.utils.data import DataLoader\n",
        "\n",
        "# Define the batch size hyperparameter\n",
        "BATCH_SIZE = 32\n",
        "\n",
        "# Create data loaders for the training and testing datasets\n",
        "# Data loaders allow you to iterate through the datasets in batches\n",
        "train_dataloader = DataLoader(\n",
        "    train_data,      # Dataset to turn into an iterable\n",
        "    batch_size=BATCH_SIZE,  # Number of samples per batch\n",
        "    shuffle=True   # Shuffle the data at the start of each epoch (for training)\n",
        ")\n",
        "\n",
        "test_dataloader = DataLoader(\n",
        "    test_data,      # Dataset to turn into an iterable\n",
        "    batch_size=BATCH_SIZE,  # Number of samples per batch\n",
        "    shuffle=False  # No need to shuffle the testing data\n",
        ")\n",
        "\n",
        "# Print information about the data loaders\n",
        "print(f\"Dataloaders: {train_dataloader, test_dataloader}\")\n",
        "print(f\"Length of train dataloader: {len(train_dataloader)} batches of {BATCH_SIZE}\")\n",
        "print(f\"Length of test dataloader: {len(test_dataloader)} batches of {BATCH_SIZE}\")\n"
      ],
      "metadata": {
        "colab": {
          "base_uri": "https://localhost:8080/"
        },
        "id": "7eGmEL1yfWaX",
        "outputId": "f9f15558-0856-497c-809a-ebc6ca95c1a4"
      },
      "execution_count": 32,
      "outputs": [
        {
          "output_type": "stream",
          "name": "stdout",
          "text": [
            "Dataloaders: (<torch.utils.data.dataloader.DataLoader object at 0x7a16926ee380>, <torch.utils.data.dataloader.DataLoader object at 0x7a16926ee080>)\n",
            "Length of train dataloader: 1875 batches of 32\n",
            "Length of test dataloader: 313 batches of 32\n"
          ]
        }
      ]
    },
    {
      "cell_type": "code",
      "source": [
        "# Use the `next` function to extract a batch of features and labels from the training data loader\n",
        "train_features_batch, train_labels_batch = next(iter(train_dataloader))\n",
        "\n",
        "# Check the shapes of the feature batch and label batch\n",
        "feature_batch_shape = train_features_batch.shape\n",
        "label_batch_shape = train_labels_batch.shape\n",
        "\n",
        "# Print the shapes\n",
        "print(f\"Shape of the feature batch: {feature_batch_shape}\")\n",
        "print(f\"Shape of the label batch: {label_batch_shape}\")\n"
      ],
      "metadata": {
        "colab": {
          "base_uri": "https://localhost:8080/"
        },
        "id": "IVFRJCUYh_VT",
        "outputId": "3358946b-952e-449b-becc-765b51f569a0"
      },
      "execution_count": 33,
      "outputs": [
        {
          "output_type": "stream",
          "name": "stdout",
          "text": [
            "Shape of the feature batch: torch.Size([32, 1, 28, 28])\n",
            "Shape of the label batch: torch.Size([32])\n"
          ]
        }
      ]
    },
    {
      "cell_type": "code",
      "source": [
        "# Set a random seed for reproducibility\n",
        "torch.manual_seed(5)\n",
        "\n",
        "# Generate a random index to select a sample from the training batch\n",
        "random_idx = torch.randint(0, len(train_features_batch), size=[1]).item()\n",
        "\n",
        "# Retrieve the image and label for the selected random index\n",
        "img, label = train_features_batch[random_idx], train_labels_batch[random_idx]\n",
        "\n",
        "# Display the image\n",
        "plt.imshow(img.squeeze(), cmap=\"gray\")\n",
        "plt.title(class_names[label])  # Assuming you have a list of class names\n",
        "plt.axis(\"off\")  # Turn off axis labels for cleaner presentation\n",
        "\n",
        "# Print information about the image and label\n",
        "print(f\"Image size: {img.shape}\")\n",
        "print(f\"Label: {label}, label size: {label.shape}\")\n"
      ],
      "metadata": {
        "colab": {
          "base_uri": "https://localhost:8080/",
          "height": 463
        },
        "id": "gUnIz4wKiWF-",
        "outputId": "3968f678-4e46-4bea-f4b0-29a71ce6cc55"
      },
      "execution_count": 34,
      "outputs": [
        {
          "output_type": "stream",
          "name": "stdout",
          "text": [
            "Image size: torch.Size([1, 28, 28])\n",
            "Label: 1, label size: torch.Size([])\n"
          ]
        },
        {
          "output_type": "display_data",
          "data": {
            "text/plain": [
              "<Figure size 640x480 with 1 Axes>"
            ],
            "image/png": "[encoded data removed]"
          },
          "metadata": {}
        }
      ]
    },
    {
      "cell_type": "markdown",
      "source": [
        "##Simple linear model"
      ],
      "metadata": {
        "id": "1VEh9xYRpoK6"
      }
    },
    {
      "cell_type": "code",
      "source": [
        "# Import the necessary PyTorch modules\n",
        "from torch import nn\n",
        "\n",
        "# Define a custom neural network model class\n",
        "class dense_model_0(nn.Module):\n",
        "    def __init__(self, input_shape: int, hidden_units: int, output_shape: int):\n",
        "        super().__init__()\n",
        "\n",
        "        # Define the layers of the model as a sequential stack\n",
        "        self.layer_stack = nn.Sequential(\n",
        "            nn.Flatten(),  # Flatten the input (vectorize it)\n",
        "            nn.Linear(in_features=input_shape, out_features=hidden_units),  # Fully connected layer\n",
        "            nn.Linear(in_features=hidden_units, out_features=output_shape)  # Fully connected layer\n",
        "        )\n",
        "\n",
        "    def forward(self, x):\n",
        "        # Define the forward pass of the model\n",
        "        return self.layer_stack(x)"
      ],
      "metadata": {
        "id": "fYL_4clxiiGN"
      },
      "execution_count": 35,
      "outputs": []
    },
    {
      "cell_type": "code",
      "source": [
        "def accuracy_fn(predictions, targets):\n",
        "    \"\"\"\n",
        "    Calculate the accuracy of a model's predictions.\n",
        "\n",
        "    Args:\n",
        "    - predictions: Predicted class labels (e.g., model outputs).\n",
        "    - targets: True class labels (ground truth).\n",
        "\n",
        "    Returns:\n",
        "    - accuracy: The accuracy of the model as a percentage.\n",
        "    \"\"\"\n",
        "    # Ensure that the inputs have the same shape\n",
        "    if predictions.shape != targets.shape:\n",
        "        raise ValueError(\"Shape mismatch: predictions and targets must have the same shape.\")\n",
        "\n",
        "    # Calculate the number of correct predictions\n",
        "    correct = (predictions == targets).sum().item()\n",
        "\n",
        "    # Calculate the total number of examples\n",
        "    total = len(targets)\n",
        "\n",
        "    # Calculate the accuracy as a percentage\n",
        "    accuracy = (correct / total) * 100.0\n",
        "\n",
        "    return accuracy\n",
        "\n",
        "model_0 = dense_model_0(input_shape=784, hidden_units=10, output_shape=len(class_names))\n",
        "torch.manual_seed(42)\n",
        "model_0.to(\"cpu\")\n",
        "loss_fn = nn.CrossEntropyLoss()\n",
        "optimizer = torch.optim.SGD(params=model_0.parameters(), lr=0.1)\n"
      ],
      "metadata": {
        "id": "GLbDPeQTjuEz"
      },
      "execution_count": 36,
      "outputs": []
    },
    {
      "cell_type": "code",
      "source": [
        "import torch\n",
        "from tqdm.auto import tqdm\n",
        "from timeit import default_timer as timer\n",
        "\n",
        "def train(model, train_dataloader, loss_fn, optimizer):\n",
        "    model.train()\n",
        "    train_loss = 0.0\n",
        "\n",
        "    for batch_idx, (X, y) in enumerate(train_dataloader):\n",
        "        # 1. Forward pass\n",
        "        X, y = X, y\n",
        "        y_pred = model(X)\n",
        "\n",
        "        # 2. Calculate loss\n",
        "        loss = loss_fn(y_pred, y)\n",
        "        train_loss += loss.item()\n",
        "\n",
        "        # 3. Backpropagation\n",
        "        optimizer.zero_grad()\n",
        "        loss.backward()\n",
        "\n",
        "        # 4. Optimizer step\n",
        "        optimizer.step()\n",
        "\n",
        "    # Average the training loss over all batches\n",
        "    train_loss /= len(train_dataloader)\n",
        "    return train_loss\n",
        "\n",
        "def test(model, test_dataloader, loss_fn, accuracy_fn):\n",
        "    model.eval()\n",
        "    test_loss = 0.0\n",
        "    test_accuracy = 0.0\n",
        "\n",
        "    with torch.no_grad():\n",
        "        for X, y in test_dataloader:\n",
        "            # 1. Forward pass\n",
        "            test_pred = model(X)\n",
        "\n",
        "            # 2. Calculate test loss\n",
        "            test_loss += loss_fn(test_pred, y).item()\n",
        "\n",
        "            # 3. Calculate accuracy\n",
        "            test_accuracy += accuracy_fn(targets=y, predictions=test_pred.argmax(dim=1))\n",
        "\n",
        "        # Average the test loss and accuracy over all test batches\n",
        "        test_loss /= len(test_dataloader)\n",
        "        test_accuracy /= len(test_dataloader)\n",
        "\n",
        "    return test_loss, test_accuracy\n",
        "\n",
        "def train_and_evaluate(model, train_dataloader, test_dataloader, loss_fn, optimizer, accuracy_fn, epochs=3):\n",
        "    # Set a random seed for reproducibility\n",
        "    torch.manual_seed(42)\n",
        "\n",
        "    # Initialize variables for tracking training time\n",
        "    train_time_start_on_cpu = timer()\n",
        "\n",
        "    # Training loop with progress bar\n",
        "    for epoch in tqdm(range(epochs), desc=\"Epochs\"):\n",
        "        print(f\"Epoch {epoch}:\\n-------\")\n",
        "\n",
        "        # Training\n",
        "        train_loss = train(model, train_dataloader, loss_fn, optimizer)\n",
        "\n",
        "        # Testing\n",
        "        test_loss, test_accuracy = test(model, test_dataloader, loss_fn, accuracy_fn)\n",
        "\n",
        "        # Print training and testing results\n",
        "        print(f\"Train loss: {train_loss:.5f} | Test loss: {test_loss:.5f}, Test acc: {test_accuracy:.2f}%\")\n",
        "\n",
        "    # Calculate and print the total training time\n",
        "    train_time_end_on_cpu = timer()\n",
        "    total_train_time_model = train_time_end_on_cpu - train_time_start_on_cpu\n",
        "    print(f\"Total training time: {total_train_time_model:.2f} seconds\")\n"
      ],
      "metadata": {
        "id": "eSGTVqwOlnl2"
      },
      "execution_count": 49,
      "outputs": []
    },
    {
      "cell_type": "code",
      "source": [
        "train_and_evaluate(model_0, train_dataloader, test_dataloader, loss_fn, optimizer, accuracy_fn, epochs=3)"
      ],
      "metadata": {
        "colab": {
          "base_uri": "https://localhost:8080/",
          "height": 223,
          "referenced_widgets": [
            "f7f0209ec6234c6389d8ce24a9a429f5",
            "26a7754845d74b8e88f8b4bcb9b95a3d",
            "422c630da6fb4c33a5566eabea3361ff",
            "f0f1d90655f24d9e99eebb60a52c19bc",
            "aacd70fef6ab471aaf61aba1bed8d7b4",
            "df2db820a50e42f680101f33a7dd461e",
            "f3cee5724dc84f29a9993180ab2f9740",
            "941f4fc21c3c4cfb8e6037fe13ca7bb2",
            "0958f6389a3e488783e4586eed8d1a9c",
            "d2f857e6fd224c8fac56e5fbb55e3f8b",
            "4a8be3dd9d414d88ab8ace75260cb454"
          ]
        },
        "id": "m_cPdGN0oJ5c",
        "outputId": "219080c3-1198-4306-98b7-9c0710f9ccd9"
      },
      "execution_count": 38,
      "outputs": [
        {
          "output_type": "display_data",
          "data": {
            "text/plain": [
              "Epochs:   0%|          | 0/3 [00:00<?, ?it/s]"
            ],
            "application/vnd.jupyter.widget-view+json": {
              "version_major": 2,
              "version_minor": 0,
              "model_id": "f7f0209ec6234c6389d8ce24a9a429f5"
            }
          },
          "metadata": {}
        },
        {
          "output_type": "stream",
          "name": "stdout",
          "text": [
            "Epoch 0:\n",
            "-------\n",
            "Train loss: 0.59030 | Test loss: 0.50375, Test acc: 82.41%\n",
            "Epoch 1:\n",
            "-------\n",
            "Train loss: 0.48061 | Test loss: 0.48872, Test acc: 82.74%\n",
            "Epoch 2:\n",
            "-------\n",
            "Train loss: 0.45850 | Test loss: 0.48213, Test acc: 83.34%\n",
            "Total training time: 28.55 seconds\n"
          ]
        }
      ]
    },
    {
      "cell_type": "markdown",
      "source": [
        "# General evaluator"
      ],
      "metadata": {
        "id": "6W9pDAgauKh1"
      }
    },
    {
      "cell_type": "code",
      "source": [
        "torch.manual_seed(42)\n",
        "def eval_model(model: torch.nn.Module,\n",
        "               data_loader: torch.utils.data.DataLoader,\n",
        "               loss_fn: torch.nn.Module,\n",
        "               accuracy_fn):\n",
        "    \"\"\"Returns a dictionary containing the results of model predicting on data_loader.\n",
        "\n",
        "    Args:\n",
        "        model (torch.nn.Module): A PyTorch model capable of making predictions on data_loader.\n",
        "        data_loader (torch.utils.data.DataLoader): The target dataset to predict on.\n",
        "        loss_fn (torch.nn.Module): The loss function of model.\n",
        "        accuracy_fn: An accuracy function to compare the models predictions to the truth labels.\n",
        "\n",
        "    Returns:\n",
        "        (dict): Results of model making predictions on data_loader.\n",
        "    \"\"\"\n",
        "    loss, acc = 0, 0\n",
        "    model.eval()\n",
        "    with torch.inference_mode():\n",
        "        for X, y in data_loader:\n",
        "            # Make predictions with the model\n",
        "            y_pred = model(X)\n",
        "\n",
        "            # Accumulate the loss and accuracy values per batch\n",
        "            loss += loss_fn(y_pred, y)\n",
        "            acc += accuracy_fn(targets=y,\n",
        "                                predictions=y_pred.argmax(dim=1)) # For accuracy, need the prediction labels (logits -> pred_prob -> pred_labels)\n",
        "\n",
        "        loss /= len(data_loader)\n",
        "        acc /= len(data_loader)\n",
        "\n",
        "    return {\"model_name\": model.__class__.__name__,\n",
        "            \"model_loss\": loss.item(),\n",
        "            \"model_acc\": acc}\n",
        "\n",
        "# Calculate model 0 results on test dataset\n",
        "model_0_results = eval_model(model=model_0, data_loader=test_dataloader,\n",
        "    loss_fn=loss_fn, accuracy_fn=accuracy_fn\n",
        ")\n",
        "model_0_results"
      ],
      "metadata": {
        "colab": {
          "base_uri": "https://localhost:8080/"
        },
        "id": "Yr1yKyLXo4Ir",
        "outputId": "606d9616-5723-4e76-8e8b-00e52c366b9a"
      },
      "execution_count": 39,
      "outputs": [
        {
          "output_type": "execute_result",
          "data": {
            "text/plain": [
              "{'model_name': 'dense_model_0',\n",
              " 'model_loss': 0.4821264445781708,\n",
              " 'model_acc': 83.33666134185303}"
            ]
          },
          "metadata": {},
          "execution_count": 39
        }
      ]
    },
    {
      "cell_type": "markdown",
      "source": [
        "#Other models"
      ],
      "metadata": {
        "id": "iP9XcmDLwSfo"
      }
    },
    {
      "cell_type": "code",
      "source": [
        "class dense_model_1(nn.Module):\n",
        "    def __init__(self, input_shape: int, hidden_units: int, output_shape: int):\n",
        "        super().__init__()\n",
        "        self.layer_stack = nn.Sequential(\n",
        "            nn.Flatten(),\n",
        "            nn.Linear(in_features=input_shape, out_features=hidden_units),\n",
        "            nn.ReLU(),\n",
        "            nn.Linear(in_features=hidden_units, out_features=output_shape),\n",
        "            nn.ReLU()\n",
        "        )\n",
        "\n",
        "    def forward(self, x: torch.Tensor):\n",
        "        return self.layer_stack(x)"
      ],
      "metadata": {
        "id": "ZFRvmhj9uAGN"
      },
      "execution_count": 50,
      "outputs": []
    },
    {
      "cell_type": "code",
      "source": [
        "model_1 = dense_model_1(input_shape=784, hidden_units=10, output_shape=len(class_names))\n",
        "torch.manual_seed(42)\n",
        "model_1.to(\"cpu\")\n",
        "loss_fn = nn.CrossEntropyLoss()\n",
        "optimizer = torch.optim.SGD(params=model_1.parameters(), lr=0.1)"
      ],
      "metadata": {
        "id": "zGLr_sNdwQy1"
      },
      "execution_count": 51,
      "outputs": []
    },
    {
      "cell_type": "code",
      "source": [
        "train_and_evaluate(model_1, train_dataloader, test_dataloader, loss_fn, optimizer, accuracy_fn, epochs=3)"
      ],
      "metadata": {
        "colab": {
          "base_uri": "https://localhost:8080/",
          "height": 223,
          "referenced_widgets": [
            "7304f7a308b64df586db044c4cdd1957",
            "7150e6d07df4413b9cf6130d0f67e310",
            "76510c34430d4afea82d5929ce8028df",
            "6d11ac10c2064aaea4817e0ff19fd06d",
            "1aa425ea227848368fdd3c5a830e140d",
            "f1b543cc007442fc9fe93926f9976cb5",
            "b5f98a1a319d46b3afd8da0d73e83784",
            "d7146f53dd96431b9d7fd6764a56e50e",
            "bbf3ed147823429bb7e8a122d2bee100",
            "5d9b37cec2824757965543f07ce75b62",
            "5e10c74a9a604bcd9dc43267ce170882"
          ]
        },
        "id": "PHBsS23ewyvD",
        "outputId": "1e53a883-cba0-4f89-d60b-5b6f74f2dd2c"
      },
      "execution_count": 52,
      "outputs": [
        {
          "output_type": "display_data",
          "data": {
            "text/plain": [
              "Epochs:   0%|          | 0/3 [00:00<?, ?it/s]"
            ],
            "application/vnd.jupyter.widget-view+json": {
              "version_major": 2,
              "version_minor": 0,
              "model_id": "7304f7a308b64df586db044c4cdd1957"
            }
          },
          "metadata": {}
        },
        {
          "output_type": "stream",
          "name": "stdout",
          "text": [
            "Epoch 0:\n",
            "-------\n",
            "Train loss: 1.11456 | Test loss: 0.96320, Test acc: 63.41%\n",
            "Epoch 1:\n",
            "-------\n",
            "Train loss: 0.90905 | Test loss: 0.74544, Test acc: 72.61%\n",
            "Epoch 2:\n",
            "-------\n",
            "Train loss: 0.59508 | Test loss: 0.49708, Test acc: 82.77%\n",
            "Total training time: 29.08 seconds\n"
          ]
        }
      ]
    },
    {
      "cell_type": "code",
      "source": [],
      "metadata": {
        "id": "dGL6yM9Cw2o3"
      },
      "execution_count": 19,
      "outputs": []
    },
    {
      "cell_type": "markdown",
      "source": [
        "# Recreating the whole thing using GPU"
      ],
      "metadata": {
        "id": "9nj13kH5zhAh"
      }
    },
    {
      "cell_type": "code",
      "source": [
        "import torch\n",
        "device = \"cuda\" if torch.cuda.is_available() else \"cpu\"\n",
        "device"
      ],
      "metadata": {
        "colab": {
          "base_uri": "https://localhost:8080/",
          "height": 36
        },
        "id": "Hktidt3ZzmNx",
        "outputId": "86814ccc-e235-440c-dd7c-f3952eaddbf2"
      },
      "execution_count": 53,
      "outputs": [
        {
          "output_type": "execute_result",
          "data": {
            "text/plain": [
              "'cuda'"
            ],
            "application/vnd.google.colaboratory.intrinsic+json": {
              "type": "string"
            }
          },
          "metadata": {},
          "execution_count": 53
        }
      ]
    },
    {
      "cell_type": "code",
      "source": [
        "import torch\n",
        "from tqdm.auto import tqdm\n",
        "from timeit import default_timer as timer\n",
        "\n",
        "def train_gpu(model: torch.nn.Module,\n",
        "          data_loader: torch.utils.data.DataLoader,\n",
        "          loss_fn: torch.nn.Module,\n",
        "          optimizer: torch.optim.Optimizer,\n",
        "          device: torch.device = device):\n",
        "    model.to(device)\n",
        "    model.train()\n",
        "    train_loss = 0.0\n",
        "\n",
        "    for batch_idx, (X, y) in enumerate(train_dataloader):\n",
        "        X, y = X.to(device), y.to(device)\n",
        "        # 1. Forward pass\n",
        "        y_pred = model(X)\n",
        "\n",
        "        # 2. Calculate loss\n",
        "        loss = loss_fn(y_pred, y)\n",
        "        train_loss += loss.item()\n",
        "\n",
        "        # 3. Backpropagation\n",
        "        optimizer.zero_grad()\n",
        "        loss.backward()\n",
        "\n",
        "        # 4. Optimizer step\n",
        "        optimizer.step()\n",
        "\n",
        "    # Average the training loss over all batches\n",
        "    train_loss /= len(train_dataloader)\n",
        "    return train_loss\n",
        "\n",
        "def test_gpu(model: torch.nn.Module,\n",
        "         data_loader: torch.utils.data.DataLoader,\n",
        "         loss_fn: torch.nn.Module,\n",
        "         accuracy_fn,\n",
        "         device: torch.device = device):\n",
        "    model.to(device)\n",
        "    model.eval()\n",
        "    test_loss = 0.0\n",
        "    test_accuracy = 0.0\n",
        "\n",
        "    with torch.no_grad():\n",
        "        for X, y in test_dataloader:\n",
        "            X, y = X.to(device), y.to(device)\n",
        "            # 1. Forward pass\n",
        "            test_pred = model(X)\n",
        "\n",
        "            # 2. Calculate test loss\n",
        "            test_loss += loss_fn(test_pred, y).item()\n",
        "\n",
        "            # 3. Calculate accuracy\n",
        "            test_accuracy += accuracy_fn(targets=y, predictions=test_pred.argmax(dim=1))\n",
        "\n",
        "        # Average the test loss and accuracy over all test batches\n",
        "        test_loss /= len(test_dataloader)\n",
        "        test_accuracy /= len(test_dataloader)\n",
        "\n",
        "    return test_loss, test_accuracy\n",
        "\n",
        "def train_and_evaluate_gpu(model, train_dataloader, test_dataloader, loss_fn, optimizer, accuracy_fn, epochs=3):\n",
        "    # Set a random seed for reproducibility\n",
        "    torch.manual_seed(42)\n",
        "\n",
        "    # Initialize variables for tracking training time\n",
        "    train_time_start_on_gpu = timer()\n",
        "\n",
        "    # Training loop with progress bar\n",
        "    for epoch in tqdm(range(epochs), desc=\"Epochs\"):\n",
        "        print(f\"Epoch {epoch}:\\n-------\")\n",
        "\n",
        "        # Training\n",
        "        train_loss = train_gpu(model, train_dataloader, loss_fn, optimizer)\n",
        "\n",
        "        # Testing\n",
        "        test_loss, test_accuracy = test_gpu(model, test_dataloader, loss_fn, accuracy_fn)\n",
        "\n",
        "        # Print training and testing results\n",
        "        print(f\"Train loss: {train_loss:.5f} | Test loss: {test_loss:.5f}, Test acc: {test_accuracy:.2f}%\")\n",
        "\n",
        "    # Calculate and print the total training time\n",
        "    train_time_end_on_gpu = timer()\n",
        "    total_train_time_model = train_time_end_on_gpu - train_time_start_on_gpu\n",
        "    print(f\"Total training time: {total_train_time_model:.2f} seconds on {next(model.parameters()).device}\")\n"
      ],
      "metadata": {
        "id": "2TppA-MPznP8"
      },
      "execution_count": 68,
      "outputs": []
    },
    {
      "cell_type": "code",
      "source": [
        "torch.manual_seed(42)\n",
        "model_1_b = dense_model_1(input_shape=784, hidden_units=10, output_shape=len(class_names))\n",
        "#model_1.to(\"cpu\")\n",
        "loss_fn = nn.CrossEntropyLoss()\n",
        "optimizer = torch.optim.SGD(params=model_1_b.parameters(), lr=0.1)"
      ],
      "metadata": {
        "id": "nChGsDgGEEuC"
      },
      "execution_count": 102,
      "outputs": []
    },
    {
      "cell_type": "code",
      "source": [
        "train_and_evaluate_gpu(model_1_b, train_dataloader, test_dataloader, loss_fn, optimizer, accuracy_fn, epochs=3)"
      ],
      "metadata": {
        "colab": {
          "base_uri": "https://localhost:8080/",
          "height": 223,
          "referenced_widgets": [
            "1df37a643b9246a4af23ac25e8f50315",
            "63d39b5eaa76479e9082ac82ff3d011e",
            "1e693f0aeae14b979fbdd9f59e78d6a3",
            "94e40329fe4d450097182ce409dcac76",
            "c20056cae3024d3ab3257ec0db7d4a9d",
            "162fecd209cb4393916b09d38b91904f",
            "6177c54daddb4be49724028a772f9bac",
            "ab7e7572fb5949e182dcb4b9cfd82baf",
            "66271634f4344239a617b45e170e1152",
            "d5bd5c74d0f44588a2ef23f83716eae1",
            "875b5a1a5f9f421c98e27e0764b6e070"
          ]
        },
        "id": "l7RNlGLtAkJH",
        "outputId": "d11bce2c-4706-4194-9ef1-dd305d3a90d8"
      },
      "execution_count": 103,
      "outputs": [
        {
          "output_type": "display_data",
          "data": {
            "text/plain": [
              "Epochs:   0%|          | 0/3 [00:00<?, ?it/s]"
            ],
            "application/vnd.jupyter.widget-view+json": {
              "version_major": 2,
              "version_minor": 0,
              "model_id": "1df37a643b9246a4af23ac25e8f50315"
            }
          },
          "metadata": {}
        },
        {
          "output_type": "stream",
          "name": "stdout",
          "text": [
            "Epoch 0:\n",
            "-------\n",
            "Train loss: 1.09199 | Test loss: 0.95637, Test acc: 65.00%\n",
            "Epoch 1:\n",
            "-------\n",
            "Train loss: 0.78101 | Test loss: 0.72227, Test acc: 73.91%\n",
            "Epoch 2:\n",
            "-------\n",
            "Train loss: 0.67027 | Test loss: 0.68500, Test acc: 75.02%\n",
            "Total training time: 29.50 seconds on cuda:0\n"
          ]
        }
      ]
    },
    {
      "cell_type": "markdown",
      "source": [
        "Took longer than the cpu version as the model is too small so couldn't make any advantage of it."
      ],
      "metadata": {
        "id": "IKym54gaLrdC"
      }
    },
    {
      "cell_type": "code",
      "source": [
        "torch.manual_seed(42)\n",
        "def eval_model_gpu(model: torch.nn.Module,\n",
        "               data_loader: torch.utils.data.DataLoader,\n",
        "               loss_fn: torch.nn.Module,\n",
        "               accuracy_fn):\n",
        "\n",
        "    loss, acc = 0, 0\n",
        "    model.to(device)\n",
        "    model.eval()\n",
        "    with torch.inference_mode():\n",
        "        for X, y in data_loader:\n",
        "            X, y = X.to(device), y.to(device)\n",
        "            # Make predictions with the model\n",
        "            y_pred = model(X)\n",
        "\n",
        "            # Accumulate the loss and accuracy values per batch\n",
        "            loss += loss_fn(y_pred, y)\n",
        "            acc += accuracy_fn(targets=y,\n",
        "                                predictions=y_pred.argmax(dim=1)) # For accuracy, need the prediction labels (logits -> pred_prob -> pred_labels)\n",
        "\n",
        "        loss /= len(data_loader)\n",
        "        acc /= len(data_loader)\n",
        "\n",
        "    return {\"model_name\": model.__class__.__name__,\n",
        "            \"model_loss\": loss.item(),\n",
        "            \"model_acc\": acc}\n",
        "\n"
      ],
      "metadata": {
        "id": "MaFC9XJVJQ21"
      },
      "execution_count": 109,
      "outputs": []
    },
    {
      "cell_type": "code",
      "source": [
        "# Calculate model 0 results on test dataset\n",
        "model_1_b_results = eval_model_gpu(model=model_1_b, data_loader=test_dataloader,\n",
        "    loss_fn=loss_fn, accuracy_fn=accuracy_fn\n",
        ")\n",
        "model_1_b_results"
      ],
      "metadata": {
        "colab": {
          "base_uri": "https://localhost:8080/"
        },
        "id": "0sLLn3pVMQwJ",
        "outputId": "b5ad2348-1808-4f85-ce3a-c6b071afa8c0"
      },
      "execution_count": 110,
      "outputs": [
        {
          "output_type": "execute_result",
          "data": {
            "text/plain": [
              "{'model_name': 'dense_model_1',\n",
              " 'model_loss': 0.6850008964538574,\n",
              " 'model_acc': 75.01996805111821}"
            ]
          },
          "metadata": {},
          "execution_count": 110
        }
      ]
    },
    {
      "cell_type": "markdown",
      "source": [
        "# CNNs"
      ],
      "metadata": {
        "id": "41KccKZ2PgJM"
      }
    },
    {
      "cell_type": "code",
      "source": [
        "class CNN_model_0(nn.Module):\n",
        "    def __init__(self, input_shape: int, output_shape: int, channels_1: int, channels_2: int,channels_3: int,channels_4: int):\n",
        "      super().__init__()\n",
        "      self.block_1 = nn.Sequential(\n",
        "            nn.Conv2d(in_channels=input_shape,\n",
        "                      out_channels=channels_1,\n",
        "                      kernel_size=3,\n",
        "                      stride=1,\n",
        "                      padding=1),\n",
        "            nn.ReLU(),\n",
        "            nn.Conv2d(in_channels=channels_1,\n",
        "                      out_channels=channels_2,\n",
        "                      kernel_size=3,\n",
        "                      stride=1,\n",
        "                      padding=1),\n",
        "            nn.ReLU(),\n",
        "            nn.MaxPool2d(kernel_size=2,\n",
        "                         stride=2)\n",
        "      )\n",
        "      self.block_2 = nn.Sequential(\n",
        "          nn.Conv2d(in_channels=channels_2, out_channels=channels_3, kernel_size = 3, padding=1),\n",
        "          nn.ReLU(),\n",
        "          nn.Conv2d(in_channels=channels_3, out_channels=channels_4, kernel_size = 3, padding=1),\n",
        "          nn.ReLU(),\n",
        "          nn.MaxPool2d(2)\n",
        "      )\n",
        "      self.classifier = nn.Sequential(\n",
        "          nn.Flatten(),\n",
        "          nn.Linear(in_features=channels_4*7*7,\n",
        "                    out_features=output_shape)\n",
        "      )\n",
        "    def forward(self, x):\n",
        "          x = self.block_1(x)\n",
        "          x = self.block_2(x)\n",
        "          x = self.classifier(x)\n",
        "\n",
        "          return x"
      ],
      "metadata": {
        "id": "6HD4jlIZMb7h"
      },
      "execution_count": 112,
      "outputs": []
    },
    {
      "cell_type": "code",
      "source": [
        "torch.manual_seed(42)\n",
        "model_2 = CNN_model_0(input_shape=1,\n",
        "    channels_1=10,\n",
        "    channels_2=10,\n",
        "    channels_3=10,\n",
        "    channels_4=10,\n",
        "    output_shape=len(class_names)).to(device)\n",
        "model_2"
      ],
      "metadata": {
        "colab": {
          "base_uri": "https://localhost:8080/"
        },
        "id": "-glGdIs7ceE7",
        "outputId": "cb7f0cf6-c4b2-4795-e616-c2761064b6be"
      },
      "execution_count": 113,
      "outputs": [
        {
          "output_type": "execute_result",
          "data": {
            "text/plain": [
              "CNN_model_0(\n",
              "  (block_1): Sequential(\n",
              "    (0): Conv2d(1, 10, kernel_size=(3, 3), stride=(1, 1), padding=(1, 1))\n",
              "    (1): ReLU()\n",
              "    (2): Conv2d(10, 10, kernel_size=(3, 3), stride=(1, 1), padding=(1, 1))\n",
              "    (3): ReLU()\n",
              "    (4): MaxPool2d(kernel_size=2, stride=2, padding=0, dilation=1, ceil_mode=False)\n",
              "  )\n",
              "  (block_2): Sequential(\n",
              "    (0): Conv2d(10, 10, kernel_size=(3, 3), stride=(1, 1), padding=(1, 1))\n",
              "    (1): ReLU()\n",
              "    (2): Conv2d(10, 10, kernel_size=(3, 3), stride=(1, 1), padding=(1, 1))\n",
              "    (3): ReLU()\n",
              "    (4): MaxPool2d(kernel_size=2, stride=2, padding=0, dilation=1, ceil_mode=False)\n",
              "  )\n",
              "  (classifier): Sequential(\n",
              "    (0): Flatten(start_dim=1, end_dim=-1)\n",
              "    (1): Linear(in_features=490, out_features=10, bias=True)\n",
              "  )\n",
              ")"
            ]
          },
          "metadata": {},
          "execution_count": 113
        }
      ]
    },
    {
      "cell_type": "markdown",
      "source": [
        "Some properties of conv layers in pytorch"
      ],
      "metadata": {
        "id": "74FfPuZteJIt"
      }
    },
    {
      "cell_type": "code",
      "source": [
        "images = torch.randn(size=(32, 3, 5, 5))\n",
        "test_image = images[0]\n",
        "print(images.shape, test_image.shape)\n",
        "test_image_batched = test_image.unsqueeze(dim=0)\n",
        "print(test_image_batched.shape)"
      ],
      "metadata": {
        "colab": {
          "base_uri": "https://localhost:8080/"
        },
        "id": "FGIwpzVedNs_",
        "outputId": "273a8c66-c3f5-449d-82ba-b2dd97d026d0"
      },
      "execution_count": 136,
      "outputs": [
        {
          "output_type": "stream",
          "name": "stdout",
          "text": [
            "torch.Size([32, 3, 5, 5]) torch.Size([3, 5, 5])\n",
            "torch.Size([1, 3, 5, 5])\n"
          ]
        }
      ]
    },
    {
      "cell_type": "code",
      "source": [
        "torch.manual_seed(42)\n",
        "conv_layer = nn.Conv2d(in_channels=3,\n",
        "                       out_channels=5,\n",
        "                       kernel_size=2,\n",
        "                       stride=1,\n",
        "                       padding=0)\n",
        "cl_1 = conv_layer(test_image_batched)\n",
        "print(cl_1.shape)"
      ],
      "metadata": {
        "colab": {
          "base_uri": "https://localhost:8080/"
        },
        "id": "-2Z9vn3Mefaw",
        "outputId": "5f28c1dc-0390-4fe8-de8a-831a9f74e348"
      },
      "execution_count": 147,
      "outputs": [
        {
          "output_type": "stream",
          "name": "stdout",
          "text": [
            "torch.Size([1, 5, 4, 4])\n"
          ]
        }
      ]
    },
    {
      "cell_type": "code",
      "source": [
        "print(conv_layer.state_dict()[\"weight\"].shape) #5: output channels, 3:input channels, 2,2: kernel"
      ],
      "metadata": {
        "colab": {
          "base_uri": "https://localhost:8080/"
        },
        "id": "r8jXJDuLfP8B",
        "outputId": "f10da981-f33c-4ad1-84c6-46fea0ee5d27"
      },
      "execution_count": 149,
      "outputs": [
        {
          "output_type": "stream",
          "name": "stdout",
          "text": [
            "torch.Size([5, 3, 2, 2])\n"
          ]
        }
      ]
    },
    {
      "cell_type": "code",
      "source": [
        "print(conv_layer.state_dict()[\"bias\"].shape) #5: output channels, 3:input channels, 2,2: kernel"
      ],
      "metadata": {
        "colab": {
          "base_uri": "https://localhost:8080/"
        },
        "id": "0JNYHdu9jthY",
        "outputId": "ea7e29e9-b423-445c-f15d-934346b7943c"
      },
      "execution_count": 150,
      "outputs": [
        {
          "output_type": "stream",
          "name": "stdout",
          "text": [
            "torch.Size([5])\n"
          ]
        }
      ]
    },
    {
      "cell_type": "code",
      "source": [
        "conv_layer.state_dict();"
      ],
      "metadata": {
        "id": "qyVhEduVlVGV"
      },
      "execution_count": 152,
      "outputs": []
    },
    {
      "cell_type": "markdown",
      "source": [
        "Loss function and optimizer for the cnn model"
      ],
      "metadata": {
        "id": "geugHlZem1fa"
      }
    },
    {
      "cell_type": "code",
      "source": [
        "loss_fn = nn.CrossEntropyLoss()\n",
        "optimizer = torch.optim.SGD(params=model_2.parameters(),\n",
        "                             lr=0.1)"
      ],
      "metadata": {
        "id": "OlJCTJRzm5-t"
      },
      "execution_count": 153,
      "outputs": []
    },
    {
      "cell_type": "code",
      "source": [
        "train_and_evaluate_gpu(model_2, train_dataloader, test_dataloader, loss_fn, optimizer, accuracy_fn, epochs=10)"
      ],
      "metadata": {
        "colab": {
          "base_uri": "https://localhost:8080/",
          "height": 587,
          "referenced_widgets": [
            "5a6f30dba7ff445c9994c8e15a089998",
            "67529b29dc664b61be0575e059841575",
            "304ab61bb64f4a3fb94a2675fcae51cd",
            "a42caf9e8bf4486f93bf6c53889783be",
            "d76ef8ee745c405bbe93e9fc90d1fff4",
            "ec7e5693bfe74b1cbf8645218cdadfa3",
            "c5c0ae7c4fb145cd9ed55fa6e228ef6c",
            "fa61d6cd1c77403c91cf9ca284f65e39",
            "fec325024c904e6ab23f63c960cbb2a0",
            "17fae171d54d4d01bd39edac5b9a04ee",
            "017805e275b74bdf8d7d8fe9e19a624f"
          ]
        },
        "id": "ztf29f1am8_7",
        "outputId": "f3a4a80d-864a-400e-8125-95136453e30c"
      },
      "execution_count": 157,
      "outputs": [
        {
          "output_type": "display_data",
          "data": {
            "text/plain": [
              "Epochs:   0%|          | 0/10 [00:00<?, ?it/s]"
            ],
            "application/vnd.jupyter.widget-view+json": {
              "version_major": 2,
              "version_minor": 0,
              "model_id": "5a6f30dba7ff445c9994c8e15a089998"
            }
          },
          "metadata": {}
        },
        {
          "output_type": "stream",
          "name": "stdout",
          "text": [
            "Epoch 0:\n",
            "-------\n",
            "Train loss: 0.30398 | Test loss: 0.32485, Test acc: 88.13%\n",
            "Epoch 1:\n",
            "-------\n",
            "Train loss: 0.29031 | Test loss: 0.31035, Test acc: 88.48%\n",
            "Epoch 2:\n",
            "-------\n",
            "Train loss: 0.27900 | Test loss: 0.30107, Test acc: 88.92%\n",
            "Epoch 3:\n",
            "-------\n",
            "Train loss: 0.27083 | Test loss: 0.31182, Test acc: 88.63%\n",
            "Epoch 4:\n",
            "-------\n",
            "Train loss: 0.26220 | Test loss: 0.29338, Test acc: 89.52%\n",
            "Epoch 5:\n",
            "-------\n",
            "Train loss: 0.25764 | Test loss: 0.30205, Test acc: 89.16%\n",
            "Epoch 6:\n",
            "-------\n",
            "Train loss: 0.25174 | Test loss: 0.28495, Test acc: 89.76%\n",
            "Epoch 7:\n",
            "-------\n",
            "Train loss: 0.24854 | Test loss: 0.28031, Test acc: 89.74%\n",
            "Epoch 8:\n",
            "-------\n",
            "Train loss: 0.24146 | Test loss: 0.28098, Test acc: 90.29%\n",
            "Epoch 9:\n",
            "-------\n",
            "Train loss: 0.23971 | Test loss: 0.29519, Test acc: 89.55%\n",
            "Total training time: 118.44 seconds on cuda:0\n"
          ]
        }
      ]
    },
    {
      "cell_type": "code",
      "source": [
        "model_2.state_dict().keys()"
      ],
      "metadata": {
        "colab": {
          "base_uri": "https://localhost:8080/"
        },
        "id": "yRTjFYXxqsKf",
        "outputId": "0fcc64aa-61db-489f-b995-cd3ba0a42ef3"
      },
      "execution_count": 167,
      "outputs": [
        {
          "output_type": "execute_result",
          "data": {
            "text/plain": [
              "odict_keys(['block_1.0.weight', 'block_1.0.bias', 'block_1.2.weight', 'block_1.2.bias', 'block_2.0.weight', 'block_2.0.bias', 'block_2.2.weight', 'block_2.2.bias', 'classifier.1.weight', 'classifier.1.bias'])"
            ]
          },
          "metadata": {},
          "execution_count": 167
        }
      ]
    },
    {
      "cell_type": "code",
      "source": [
        "model_2.state_dict()[\"block_1.0.weight\"]"
      ],
      "metadata": {
        "colab": {
          "base_uri": "https://localhost:8080/"
        },
        "id": "QBjvYmWLnCud",
        "outputId": "8af78643-9d9a-4e6b-9123-acf6ffa1a5c8"
      },
      "execution_count": 158,
      "outputs": [
        {
          "output_type": "execute_result",
          "data": {
            "text/plain": [
              "tensor([[[[ 0.2473,  0.5480, -0.4998],\n",
              "          [-0.0842,  0.4150,  0.1363],\n",
              "          [-0.6186, -0.2050,  0.6492]]],\n",
              "\n",
              "\n",
              "        [[[-0.8937,  0.7550, -0.0458],\n",
              "          [ 0.3757,  0.5826, -0.3665],\n",
              "          [-0.2676,  0.2265, -0.1884]]],\n",
              "\n",
              "\n",
              "        [[[-0.0340, -0.4061,  0.2585],\n",
              "          [-1.2741, -1.1345,  0.1337],\n",
              "          [-1.4543, -1.2762, -0.4349]]],\n",
              "\n",
              "\n",
              "        [[[-1.1931, -2.0536, -0.8931],\n",
              "          [ 0.4212, -0.7347,  0.5028],\n",
              "          [ 0.2354, -0.3601,  0.5065]]],\n",
              "\n",
              "\n",
              "        [[[-0.3399,  0.4264,  0.3908],\n",
              "          [-1.0345,  0.1110, -0.0804],\n",
              "          [-0.5878,  0.2934,  0.4035]]],\n",
              "\n",
              "\n",
              "        [[[-0.0535,  0.2463,  0.0619],\n",
              "          [ 0.3107, -0.1710, -0.3226],\n",
              "          [-0.1388, -0.2668,  0.2694]]],\n",
              "\n",
              "\n",
              "        [[[ 0.4069, -0.2129, -0.1037],\n",
              "          [ 0.3694, -0.1931, -0.4163],\n",
              "          [-0.4035, -1.1442, -0.1819]]],\n",
              "\n",
              "\n",
              "        [[[-0.0392, -0.2058, -0.2861],\n",
              "          [ 0.4011, -0.3854, -0.8041],\n",
              "          [-0.1563,  0.7672,  0.5577]]],\n",
              "\n",
              "\n",
              "        [[[ 1.1574, -0.5513, -0.9190],\n",
              "          [-0.5377, -0.6414, -0.1834],\n",
              "          [ 0.3368,  0.7048, -0.1257]]],\n",
              "\n",
              "\n",
              "        [[[-0.2261,  0.1727, -0.1333],\n",
              "          [ 0.2000, -0.0811,  0.1900],\n",
              "          [-0.2597, -0.1680,  0.1018]]]], device='cuda:0')"
            ]
          },
          "metadata": {},
          "execution_count": 158
        }
      ]
    },
    {
      "cell_type": "code",
      "source": [
        "import matplotlib.pyplot as plt\n",
        "\n",
        "plt.hist(model_2.state_dict()[\"block_1.0.weight\"].cpu().reshape(-1))"
      ],
      "metadata": {
        "colab": {
          "base_uri": "https://localhost:8080/",
          "height": 517
        },
        "id": "4KQfYnWAngOT",
        "outputId": "ba6fb04e-d6a1-4d24-9e42-625222165310"
      },
      "execution_count": 170,
      "outputs": [
        {
          "output_type": "execute_result",
          "data": {
            "text/plain": [
              "(array([ 1.,  1.,  5.,  5.,  7., 26., 16., 21.,  7.,  1.]),\n",
              " array([-2.05360126, -1.73250461, -1.41140795, -1.09031129, -0.76921457,\n",
              "        -0.44811791, -0.12702124,  0.19407544,  0.51517212,  0.83626878,\n",
              "         1.15736544]),\n",
              " <BarContainer object of 10 artists>)"
            ]
          },
          "metadata": {},
          "execution_count": 170
        },
        {
          "output_type": "display_data",
          "data": {
            "text/plain": [
              "<Figure size 640x480 with 1 Axes>"
            ],
            "image/png": "[encoded data removed]"
          },
          "metadata": {}
        }
      ]
    },
    {
      "cell_type": "code",
      "source": [
        "plt.hist(model_2.state_dict()[\"classifier.1.weight\"].cpu().reshape(-1))"
      ],
      "metadata": {
        "colab": {
          "base_uri": "https://localhost:8080/",
          "height": 534
        },
        "id": "XdXv4vkTqKYa",
        "outputId": "af437ddc-6e23-4d93-c831-33f2d2031e2f"
      },
      "execution_count": 171,
      "outputs": [
        {
          "output_type": "execute_result",
          "data": {
            "text/plain": [
              "(array([   3.,   14.,   70.,  413., 1588., 1869.,  713.,  179.,   43.,\n",
              "           8.]),\n",
              " array([-0.91367221, -0.73809838, -0.56252456, -0.3869507 , -0.21137686,\n",
              "        -0.03580302,  0.13977082,  0.31534466,  0.49091849,  0.66649234,\n",
              "         0.84206617]),\n",
              " <BarContainer object of 10 artists>)"
            ]
          },
          "metadata": {},
          "execution_count": 171
        },
        {
          "output_type": "display_data",
          "data": {
            "text/plain": [
              "<Figure size 640x480 with 1 Axes>"
            ],
            "image/png": "[encoded data removed]"
          },
          "metadata": {}
        }
      ]
    },
    {
      "cell_type": "code",
      "source": [],
      "metadata": {
        "id": "eDZq1aPFqjYu"
      },
      "execution_count": null,
      "outputs": []
    }
  ]
}